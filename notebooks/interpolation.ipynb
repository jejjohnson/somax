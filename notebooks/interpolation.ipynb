{
 "cells": [
  {
   "cell_type": "markdown",
   "id": "e25b93d9-0c19-4f30-a43c-05e59d607e32",
   "metadata": {},
   "source": [
    "# Demo: Interpolation\n",
    "\n"
   ]
  },
  {
   "cell_type": "markdown",
   "id": "fb927a05-b966-42d4-a940-512edce8d27b",
   "metadata": {},
   "source": [
    "In this demo, we will look at interpolation and how we can use this easily move between different domains within the Arakawa C-grid. \n",
    "In general, the methods here can be used with Cartesian and Rectilinear-type grids.\n",
    "\n",
    "**Note**: Curvilinear grids are currently outside of the scope for this project although it would be nice to have some methods that can handle this within the future."
   ]
  },
  {
   "cell_type": "code",
   "execution_count": 1,
   "id": "e683dddb-05ec-461b-8aa9-7d0115af6eb6",
   "metadata": {},
   "outputs": [],
   "source": [
    "import os\n",
    "os.environ['XLA_PYTHON_CLIENT_PREALLOCATE'] = 'FALSE'\n",
    "os.environ[\"CUDA_VISIBLE_DEVICES\"] = \"0\" # first gpu\n",
    "\n",
    "\n",
    "import jax\n",
    "# again, this only works on startup!\n",
    "from jax import config\n",
    "config.update(\"jax_enable_x64\", True)\n",
    "config.update('jax_platform_name', 'cpu')"
   ]
  },
  {
   "cell_type": "code",
   "execution_count": 1,
   "id": "a7e4f1d9-5d64-43e7-9d0f-053d9319dbc2",
   "metadata": {
    "tags": []
   },
   "outputs": [],
   "source": [
    "import autoroot\n",
    "import jax\n",
    "import jax.numpy as jnp\n",
    "from jaxtyping import Array, Float\n",
    "from jax import config\n",
    "config.update(\"jax_enable_x64\", True)\n",
    "from finitevolx._src.masks.masks import (\n",
    "    MaskGrid\n",
    ")\n",
    "import matplotlib.pyplot as plt\n",
    "import numpy as np\n",
    "import functools as ft\n",
    "\n",
    "%matplotlib inline\n",
    "%load_ext autoreload\n",
    "%autoreload 2"
   ]
  },
  {
   "cell_type": "markdown",
   "id": "c6557448-c70d-4f85-86ff-8cb6a92b7f0f",
   "metadata": {},
   "source": [
    "## Domains"
   ]
  },
  {
   "cell_type": "code",
   "execution_count": 2,
   "id": "8525147a-bf89-4216-bdd1-64c15440ebde",
   "metadata": {
    "tags": []
   },
   "outputs": [],
   "source": [
    "# define number of points\n",
    "Nx, Ny = 128, 128\n",
    "\n",
    "# define resolution\n",
    "dx, dy = 5e3, 5e3\n",
    "\n",
    "# define limits\n",
    "xmin, ymin = 0.0, 0.0\n",
    "Lx, Ly = (Nx - 1) * dx, (Ny - 1) * dy\n",
    "xmax, ymax = Lx, Ly"
   ]
  },
  {
   "cell_type": "code",
   "execution_count": 3,
   "id": "db209339-7ad7-40fa-a83d-b2eb14129e95",
   "metadata": {
    "tags": []
   },
   "outputs": [
    {
     "data": {
      "text/plain": [
       "(Domain(\n",
       "   xmin=(0.0, 0.0),\n",
       "   xmax=(635000.0, 635000.0),\n",
       "   dx=(5000.0, 5000.0),\n",
       "   Nx=(128, 128),\n",
       "   Lx=(635000.0, 635000.0),\n",
       "   ndim=2\n",
       " ),\n",
       " Domain(\n",
       "   xmin=(-2500.0, 0.0),\n",
       "   xmax=(637500.0, 635000.0),\n",
       "   dx=(5000.0, 5000.0),\n",
       "   Nx=(129, 128),\n",
       "   Lx=(640000.0, 635000.0),\n",
       "   ndim=2\n",
       " ))"
      ]
     },
     "execution_count": 3,
     "metadata": {},
     "output_type": "execute_result"
    }
   ],
   "source": [
    "from finitevolx._src.domain.domain import Domain\n",
    "from finitevolx.functional import stagger_domain\n",
    "\n",
    "# grid at center\n",
    "\n",
    "h_domain = Domain(xmin=(xmin, ymin), xmax=(xmax, ymax), Lx=(Lx,Ly), Nx=(Nx,Ny), dx=(dx,dy))\n",
    "# grid on x-axis\n",
    "u_domain = stagger_domain(h_domain, direction=(\"outer\", None), stagger=(True, False))\n",
    "\n",
    "h_domain, u_domain"
   ]
  },
  {
   "cell_type": "code",
   "execution_count": 4,
   "id": "764bbe80-d5f4-496a-8ebd-77f0801f9a44",
   "metadata": {
    "tags": []
   },
   "outputs": [],
   "source": [
    "rng = np.random.RandomState(123)\n",
    "\n",
    "# initialize h domain\n",
    "u: Float[Array, \"Nx Ny\"] = rng.randn(*u_domain.Nx)\n"
   ]
  },
  {
   "cell_type": "markdown",
   "id": "8fc6ceea-e1dc-4c9e-b4de-0dfe448d7627",
   "metadata": {},
   "source": [
    "## From Scratch\n",
    "\n",
    "Here, we have quite a few functions that are useful for interpolating between grid points.\n",
    "One can do it from scratch while manually keeping track of where the grid points are.\n",
    "This can be done with functions like `avg_pool` whereby the user can simply describe the shape of the kernel.\n",
    "\n",
    "The backend of this is using `kernex` which is designed for *convolution-like* operations which run very fast on the CPU/GPU/TPU."
   ]
  },
  {
   "cell_type": "code",
   "execution_count": 5,
   "id": "dd8c85f4-cb1c-4109-b809-742c6a2eebcf",
   "metadata": {
    "tags": []
   },
   "outputs": [],
   "source": [
    "from finitevolx import avg_pool"
   ]
  },
  {
   "cell_type": "code",
   "execution_count": 6,
   "id": "7ffb6da3-1d3f-4be5-90ba-9c84c80348e9",
   "metadata": {
    "tags": []
   },
   "outputs": [],
   "source": [
    "kernel_size = (2,1)\n",
    "stride = (1,1)\n",
    "padding = \"valid\"\n",
    "mean_fn = \"arithmetic\" # \"geometric\" # \"harmonic\" # \"quadratic\" #\n",
    "u_on_h_scratch = avg_pool(\n",
    "    u, kernel_size=kernel_size, stride=stride, padding=padding, mean_fn=mean_fn\n",
    ")"
   ]
  },
  {
   "cell_type": "markdown",
   "id": "7d6fe9fc-5fdb-4461-a430-a605f53477c1",
   "metadata": {},
   "source": [
    "There are some other goodies here like being able to choose the stride and also the mean function we wish to use. \n",
    "In all honesty, I have not seen a usecase for a mean function other than the arithmetic mean."
   ]
  },
  {
   "cell_type": "markdown",
   "id": "b2a9d76b-e704-4ae9-b5ec-d71a3943c67d",
   "metadata": {},
   "source": [
    "#### Synatic Sugar\n",
    "\n",
    "There are some convenience functions to allow us to move between grids with a simpler syntax\n",
    "\n",
    "* `x_avg_1D`\n",
    "* `x_avg_2D`, `y_avg_2D`, `center_avg_2D`"
   ]
  },
  {
   "cell_type": "code",
   "execution_count": 7,
   "id": "808eb01f-a06b-4b72-b4f8-56dd02d8e0d7",
   "metadata": {
    "tags": []
   },
   "outputs": [],
   "source": [
    "from finitevolx import x_avg_2D"
   ]
  },
  {
   "cell_type": "code",
   "execution_count": 8,
   "id": "f6b5c6f5-6ed6-405a-a5f8-b693e77c26f5",
   "metadata": {
    "tags": []
   },
   "outputs": [],
   "source": [
    "u_on_h_ss = x_avg_2D(u=u, mean_fn=mean_fn)"
   ]
  },
  {
   "cell_type": "code",
   "execution_count": 9,
   "id": "878246b5-1efc-406d-907e-d0a3d5cc203a",
   "metadata": {
    "tags": []
   },
   "outputs": [],
   "source": [
    "np.testing.assert_array_almost_equal(u_on_h_scratch, u_on_h_ss)"
   ]
  },
  {
   "cell_type": "markdown",
   "id": "59c2ba03-cd57-4570-a480-8b8727e1ad94",
   "metadata": {},
   "source": [
    "## Generalized Average"
   ]
  },
  {
   "cell_type": "code",
   "execution_count": 10,
   "id": "86305fad-1411-4024-a227-e2abaa1fafd9",
   "metadata": {
    "tags": []
   },
   "outputs": [],
   "source": [
    "from finitevolx.functional import domain_interpolation_2D\n",
    "\n",
    "\n",
    "# define interpolation params\n",
    "method = \"linear\"\n",
    "target_domain = h_domain\n",
    "source_domain = u_domain\n",
    "\n",
    "# using generalized function\n",
    "u_on_h_gen = domain_interpolation_2D(\n",
    "    u=u, source_domain=u_domain, target_domain=h_domain,\n",
    "    method=\"linear\")"
   ]
  },
  {
   "cell_type": "code",
   "execution_count": 11,
   "id": "a874feb3-197a-4b05-a2c6-42eae16e45fa",
   "metadata": {
    "tags": []
   },
   "outputs": [],
   "source": [
    "np.testing.assert_array_almost_equal(u_on_h_scratch, u_on_h_gen)"
   ]
  },
  {
   "cell_type": "markdown",
   "id": "2910034d-fa93-43e2-85d6-ba331898bd9c",
   "metadata": {},
   "source": [
    "### Cartesian Grid\n",
    "\n",
    "It's much faster to use the Cartesian grid whenever we have a domain stepsize that is constant."
   ]
  },
  {
   "cell_type": "code",
   "execution_count": 12,
   "id": "e7383f0e-eac6-4fe4-ac0f-1479da308d22",
   "metadata": {
    "tags": []
   },
   "outputs": [],
   "source": [
    "from finitevolx.functional import cartesian_interpolator_2D\n",
    "\n",
    "\n",
    "# define interpolation params\n",
    "method = \"linear\"\n",
    "target_domain = h_domain\n",
    "source_domain = u_domain\n",
    "\n",
    "\n",
    "# using cartesian grid\n",
    "u_on_h_cart = cartesian_interpolator_2D(\n",
    "    u=u, source_domain=u_domain, target_domain=h_domain,\n",
    ")\n"
   ]
  },
  {
   "cell_type": "code",
   "execution_count": 13,
   "id": "39994a16-3f34-451e-96f7-b0f31ef752fd",
   "metadata": {
    "tags": []
   },
   "outputs": [],
   "source": [
    "np.testing.assert_array_almost_equal(u_on_h_scratch, u_on_h_cart)"
   ]
  },
  {
   "cell_type": "markdown",
   "id": "cdc4ea97-a00c-4f68-9958-1d8637974310",
   "metadata": {},
   "source": [
    "### Speed Test"
   ]
  },
  {
   "cell_type": "markdown",
   "id": "40e53d52-7064-4629-a918-1f69da54b8af",
   "metadata": {},
   "source": [
    "#### Scratch"
   ]
  },
  {
   "cell_type": "code",
   "execution_count": 14,
   "id": "39129c71-12a0-4415-90a3-ca2ce38897c2",
   "metadata": {
    "tags": []
   },
   "outputs": [],
   "source": [
    "\n",
    "kernel_size = (2,1)\n",
    "stride = (1,1)\n",
    "padding = \"valid\"\n",
    "mean_fn = \"arithmetic\" # \"geometric\" # \"harmonic\" # \"quadratic\" #\n",
    "u_on_h_scratch = avg_pool(\n",
    "    u, kernel_size=kernel_size, stride=stride, padding=padding, mean_fn=mean_fn\n",
    ")\n",
    "\n",
    "fn_scratch = ft.partial(\n",
    "    avg_pool,\n",
    "    kernel_size=kernel_size,\n",
    "    stride=stride, \n",
    "    padding=padding, \n",
    "    mean_fn=mean_fn\n",
    ")\n",
    "fn_scratch_jitted = jax.jit(fn_scratch)"
   ]
  },
  {
   "cell_type": "code",
   "execution_count": 15,
   "id": "7f804530-e8fc-4416-8fa8-699aa84c71a2",
   "metadata": {
    "tags": []
   },
   "outputs": [
    {
     "name": "stdout",
     "output_type": "stream",
     "text": [
      "8.14 ms ± 150 µs per loop (mean ± std. dev. of 7 runs, 100 loops each)\n",
      "99.3 µs ± 4.08 µs per loop (mean ± std. dev. of 7 runs, 10,000 loops each)\n"
     ]
    }
   ],
   "source": [
    "%timeit fn_scratch(u).block_until_ready()  # run\n",
    "%timeit fn_scratch_jitted(u).block_until_ready()  # run"
   ]
  },
  {
   "cell_type": "markdown",
   "id": "38d855fe-9d55-41bb-8201-248ff05be445",
   "metadata": {},
   "source": [
    "#### Generalized"
   ]
  },
  {
   "cell_type": "code",
   "execution_count": 16,
   "id": "8f740595-f516-42a0-a760-1373c952503c",
   "metadata": {
    "tags": []
   },
   "outputs": [],
   "source": [
    "\n",
    "fn_gen = ft.partial(\n",
    "    domain_interpolation_2D,\n",
    "    source_domain=u_domain,\n",
    "    target_domain=h_domain,\n",
    "    method=\"linear\"\n",
    ")\n",
    "\n",
    "fn_gen_jitted = jax.jit(fn_gen)"
   ]
  },
  {
   "cell_type": "code",
   "execution_count": 17,
   "id": "b8c4d300-ef6a-4563-8194-f419fc016dff",
   "metadata": {
    "tags": []
   },
   "outputs": [
    {
     "name": "stdout",
     "output_type": "stream",
     "text": [
      "2.06 ms ± 32.9 µs per loop (mean ± std. dev. of 7 runs, 100 loops each)\n",
      "359 µs ± 18.1 µs per loop (mean ± std. dev. of 7 runs, 1 loop each)\n"
     ]
    }
   ],
   "source": [
    "%timeit fn_gen(u).block_until_ready()  # run\n",
    "%timeit fn_gen_jitted(u).block_until_ready()  # run"
   ]
  },
  {
   "cell_type": "markdown",
   "id": "f3f2cdf0-1393-4ae4-b617-8ff7a444f192",
   "metadata": {},
   "source": [
    "#### Cartesian Grid"
   ]
  },
  {
   "cell_type": "code",
   "execution_count": 18,
   "id": "41ab49ed-2289-4967-8bb7-8f4c8f17b28e",
   "metadata": {
    "tags": []
   },
   "outputs": [],
   "source": [
    "fn_cart = ft.partial(\n",
    "    cartesian_interpolator_2D,\n",
    "    source_domain=u_domain,\n",
    "    target_domain=h_domain\n",
    ")\n",
    "fn_cart_jitted = jax.jit(fn_cart)"
   ]
  },
  {
   "cell_type": "code",
   "execution_count": 19,
   "id": "613dcf3a-6e3c-4891-81b8-ff2ff75ffd35",
   "metadata": {
    "tags": []
   },
   "outputs": [
    {
     "name": "stdout",
     "output_type": "stream",
     "text": [
      "1.2 ms ± 55 µs per loop (mean ± std. dev. of 7 runs, 1,000 loops each)\n",
      "83.6 µs ± 1.67 µs per loop (mean ± std. dev. of 7 runs, 10,000 loops each)\n"
     ]
    }
   ],
   "source": [
    "%timeit fn_cart(u).block_until_ready()  # run\n",
    "%timeit fn_cart_jitted(u).block_until_ready()  # run"
   ]
  },
  {
   "cell_type": "code",
   "execution_count": null,
   "id": "3cde8b4b-2018-4e0c-9fef-7f4904c61951",
   "metadata": {},
   "outputs": [],
   "source": []
  }
 ],
 "metadata": {
  "kernelspec": {
   "display_name": "Python [conda env:somax]",
   "language": "python",
   "name": "conda-env-somax-py"
  },
  "language_info": {
   "codemirror_mode": {
    "name": "ipython",
    "version": 3
   },
   "file_extension": ".py",
   "mimetype": "text/x-python",
   "name": "python",
   "nbconvert_exporter": "python",
   "pygments_lexer": "ipython3",
   "version": "3.11.9"
  }
 },
 "nbformat": 4,
 "nbformat_minor": 5
}
