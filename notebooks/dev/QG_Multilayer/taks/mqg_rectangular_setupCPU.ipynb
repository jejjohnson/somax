{
 "cells": [
  {
   "cell_type": "markdown",
   "id": "663302d1",
   "metadata": {
    "tags": []
   },
   "source": [
    "---\n",
    "title: 3 Layer Stacked QG Model\n",
    "subject: Jax Approximate Ocean Models\n",
    "# subtitle: How can I estimate the state AND the parameters?\n",
    "short_title: Stacked QG\n",
    "authors:\n",
    "  - name: J. Emmanuel Johnson\n",
    "    affiliations:\n",
    "      - CNRS\n",
    "      - MEOM\n",
    "    orcid: 0000-0002-6739-0053\n",
    "    email: jemanjohnson34@gmail.com\n",
    "  - name: Takaya Uchida\n",
    "    affiliations:\n",
    "      - FSU\n",
    "    orcid: https://orcid.org/0000-0002-8654-6009\n",
    "    email: takachanbo@gmail.com\n",
    "license: CC-BY-4.0\n",
    "keywords: jax, shallow water model, differentiable\n",
    "abbreviations:\n",
    "    SW: Shallow Water\n",
    "    QG: Quasi-Geostrophic\n",
    "    PDE: Partial Differential Equation\n",
    "    RHS: Right Hand Side\n",
    "---"
   ]
  },
  {
   "cell_type": "code",
   "execution_count": 1,
   "id": "fb85bb71-9453-4060-9a27-10fdfaf78ce1",
   "metadata": {
    "tags": []
   },
   "outputs": [
    {
     "name": "stderr",
     "output_type": "stream",
     "text": [
      "/tmp/ipykernel_4158207/1701600949.py:14: DeprecationWarning: Accessing jax.config via the jax.config submodule is deprecated.\n",
      "  from jax.config import config\n"
     ]
    }
   ],
   "source": [
    "import autoroot\n",
    "import typing as tp\n",
    "import equinox as eqx \n",
    "from fieldx._src.domain.domain import Domain\n",
    "import einops\n",
    "\n",
    "import math\n",
    "import diffrax as dfx\n",
    "from jaxtyping import Array, Float\n",
    "import jax\n",
    "import numpy as np\n",
    "import jax.numpy as jnp\n",
    "import jax.scipy as jsp\n",
    "from jax.config import config\n",
    "import pandas as pd\n",
    "from finitevolx import laplacian, divergence, geostrophic_gradient, x_avg_2D, y_avg_2D, center_avg_2D, MaskGrid, reconstruct\n",
    "from somax._src.operators.dst import (\n",
    "    helmholtz_dst, laplacian_dst, inverse_elliptic_dst, inverse_elliptic_dst_cmm, compute_capacitance_matrices\n",
    ")\n",
    "from somax._src.models.qg.params import QGParams\n",
    "from somax._src.models.qg.domain import LayerDomain\n",
    "from somax._src.models.qg.elliptical import DSTSolution, calculate_helmholtz_dst, compute_homogeneous_solution\n",
    "\n",
    "import matplotlib.pyplot as plt\n",
    "import seaborn as sns\n",
    "sns.reset_defaults()\n",
    "sns.set_context(context=\"talk\", font_scale=0.7)\n",
    "config.update(\"jax_enable_x64\", True)\n",
    "\n",
    "\n",
    "%matplotlib inline\n",
    "%load_ext autoreload\n",
    "%autoreload 2"
   ]
  },
  {
   "cell_type": "markdown",
   "id": "459d8b11-b690-4eee-942c-7464ead0bb12",
   "metadata": {},
   "source": [
    "#### Plot Utils"
   ]
  },
  {
   "cell_type": "code",
   "execution_count": 2,
   "id": "473d9e9e",
   "metadata": {
    "tags": []
   },
   "outputs": [],
   "source": [
    "from loguru import logger\n",
    "\n",
    "\n",
    "def plot_field(field, name=\"\"):\n",
    "    num_axis = len(field)\n",
    "    fig, ax = plt.subplots(ncols=num_axis, figsize=(8, 2))\n",
    "    vmin, vmax = np.min(field), np.max(field)\n",
    "    fig.suptitle(name)\n",
    "    for i in range(num_axis):\n",
    "        pts = ax[i].pcolormesh(field[i].T, cmap=\"coolwarm\", vmin=vmin, vmax=vmax)\n",
    "        plt.colorbar(pts)\n",
    "\n",
    "    plt.tight_layout()\n",
    "    plt.show()\n",
    "\n",
    "\n",
    "def print_debug_quantity(quantity, name=\"\"):\n",
    "    size = quantity.shape\n",
    "    min_ = jnp.min(quantity)\n",
    "    max_ = jnp.max(quantity)\n",
    "    mean_ = jnp.mean(quantity)\n",
    "    median_ = jnp.mean(quantity)\n",
    "    jax.debug.print(\n",
    "        f\"{name}: {size} | {min_:.6e} | {mean_:.6e} | {median_:.6e} | {max_:.6e}\"\n",
    "    )"
   ]
  },
  {
   "cell_type": "code",
   "execution_count": 4,
   "id": "1afb183e-a119-40b4-b1a7-6b83c4de4087",
   "metadata": {
    "tags": []
   },
   "outputs": [],
   "source": [
    "# # Low Resolution (Non-Resolving)\n",
    "# Nx, Ny = 64, 64\n",
    "# Low Resolution (Non-Resolving)\n",
    "# Nx, Ny = 128, 128\n",
    "# Low Resolution\n",
    "# Nx, Ny = 256, 256\n",
    "# High Resolution\n",
    "# Nx, Ny = 512, 512\n",
    "# Nx, Ny = 769, 961\n",
    "# Nx, Ny = 1024, 1024\n",
    "Nx, Ny = 4096, 4096\n",
    "\n",
    "# Lx, Ly = 3840.0e3, 4800.0e3\n",
    "Lx, Ly = 5_120.0e3, 5_120.0e3\n",
    "\n",
    "dx, dy = Lx / Nx, Ly / Ny\n",
    "\n",
    "xy_domain = Domain(\n",
    "    xmin=(0.0,0.0), \n",
    "    xmax=(Lx,Ly),\n",
    "    Lx=(Lx,Ly),\n",
    "    Nx=(Nx, Ny), \n",
    "    dx=(dx, dy)\n",
    ")\n",
    "\n",
    "params = QGParams(y0=0.5 * Ly)"
   ]
  },
  {
   "cell_type": "code",
   "execution_count": 5,
   "id": "391754a0-47c4-430b-981d-4d3b6ddc17f1",
   "metadata": {
    "tags": []
   },
   "outputs": [
    {
     "data": {
      "text/plain": [
       "Domain(\n",
       "  xmin=(0.0, 0.0),\n",
       "  xmax=(5120000.0, 5120000.0),\n",
       "  dx=(1250.0, 1250.0),\n",
       "  Nx=(4096, 4096),\n",
       "  Lx=(5120000.0, 5120000.0),\n",
       "  ndim=2\n",
       ")"
      ]
     },
     "execution_count": 5,
     "metadata": {},
     "output_type": "execute_result"
    }
   ],
   "source": [
    "xy_domain"
   ]
  },
  {
   "cell_type": "code",
   "execution_count": 6,
   "id": "4170ebd6-622c-4198-b5fb-6854e95429f6",
   "metadata": {},
   "outputs": [
    {
     "data": {
      "text/plain": [
       "QGParams(\n",
       "  f0=9.375e-05,\n",
       "  beta=1.754e-11,\n",
       "  tau0=2e-05,\n",
       "  y0=2560000.0,\n",
       "  a_2=0.0,\n",
       "  a_4=500000000000.0,\n",
       "  bcco=0.2,\n",
       "  delta_ek=2.0,\n",
       "  num_pts=5,\n",
       "  method='wenoz'\n",
       ")"
      ]
     },
     "execution_count": 6,
     "metadata": {},
     "output_type": "execute_result"
    }
   ],
   "source": [
    "params"
   ]
  },
  {
   "cell_type": "code",
   "execution_count": 7,
   "id": "2a5e5848-cb4c-41b7-bc8e-2546ccbfaeae",
   "metadata": {
    "tags": []
   },
   "outputs": [],
   "source": [
    "# # octogonal domain\n",
    "# domain_type = \"octogonal\"\n",
    "# mask = np.ones((Nx-1,Ny-1))\n",
    "# for i in range(Nx//4):\n",
    "#     for j in range(Ny//4):\n",
    "#         if i+j < min(Nx//4, Ny//4):\n",
    "#             mask[i,j] = 0.\n",
    "#             mask[i,-1-j] = 0.\n",
    "#             mask[-1-i,j] = 0.\n",
    "#             mask[-1-i,-1-j] = 0.\n",
    "            \n",
    "# masks = MaskGrid.init_mask(mask, location=\"center\")\n",
    "\n",
    "domain_type = \"rectangular\"\n",
    "\n",
    "mask = jnp.ones((Nx,Ny))\n",
    "mask = mask.at[0].set(0.0)\n",
    "mask = mask.at[-1].set(0.0)\n",
    "mask = mask.at[:,0].set(0.0)\n",
    "mask = mask.at[:,-1].set(0.0)\n",
    "masks = MaskGrid.init_mask(mask, location=\"node\")\n"
   ]
  },
  {
   "cell_type": "code",
   "execution_count": 7,
   "id": "8ac55ca0-71f4-45be-92ab-8808401e3d16",
   "metadata": {
    "tags": []
   },
   "outputs": [],
   "source": [
    "# psi0 = np.load(\"/Users/eman/code_projects/data/qg_runs/psi_000y_090d.npy\")\n",
    "# psi0.shape"
   ]
  },
  {
   "cell_type": "markdown",
   "id": "0a68bb5d-c725-47bd-9dbd-3b0ab319854e",
   "metadata": {},
   "source": [
    "### Layer domain"
   ]
  },
  {
   "cell_type": "code",
   "execution_count": 8,
   "id": "acdad698-dd11-4f16-9be3-f4e374b280ea",
   "metadata": {
    "tags": []
   },
   "outputs": [],
   "source": [
    "# heights\n",
    "# heights = [350.0, 750.0, 2900.0]\n",
    "heights = [400.0, 1_100.0, 2_600.0]\n",
    "\n",
    "# reduced gravities\n",
    "reduced_gravities = [0.025, 0.0125]\n",
    "\n",
    "# initialize layer domain\n",
    "with jax.default_device(jax.devices(\"cpu\")[0]):\n",
    "    layer_domain = LayerDomain(heights, reduced_gravities, correction=False)"
   ]
  },
  {
   "cell_type": "markdown",
   "id": "2107b72b-ca77-43fa-b5dd-9cf6ea962164",
   "metadata": {},
   "source": [
    "### Helmoltz"
   ]
  },
  {
   "cell_type": "code",
   "execution_count": 9,
   "id": "a1bf6013-d450-4656-b300-2d708da908bf",
   "metadata": {
    "tags": []
   },
   "outputs": [
    {
     "data": {
      "text/plain": [
       "(3, 4094, 4094)"
      ]
     },
     "execution_count": 9,
     "metadata": {},
     "output_type": "execute_result"
    }
   ],
   "source": [
    "H_mat = calculate_helmholtz_dst(xy_domain, layer_domain, params)\n",
    "\n",
    "H_mat.shape"
   ]
  },
  {
   "cell_type": "markdown",
   "id": "8b956110-e061-45aa-b3f2-45973ddfff9d",
   "metadata": {},
   "source": [
    "### Homogeneous Solution"
   ]
  },
  {
   "cell_type": "code",
   "execution_count": 10,
   "id": "7699b2cd-ca73-4f20-ac96-8421d1d24ef8",
   "metadata": {
    "tags": []
   },
   "outputs": [
    {
     "name": "stdout",
     "output_type": "stream",
     "text": [
      "HOMSOL: (3, 4096, 4096) | -2.383022e-07 | 3.509815e-01 | 3.509815e-01 | 1.000000e+00\n",
      "HOMSOL MEAN: (3, 1, 1) | 1.986576e-02 | 3.506645e-01 | 3.506645e-01 | 1.000000e+00\n"
     ]
    }
   ],
   "source": [
    "psi0 = jnp.ones(shape=(layer_domain.Nz,) + xy_domain.Nx)\n",
    "\n",
    "# psi0 = np.load(\"/Users/eman/code_projects/data/qg_runs/psi_000y_360d.npy\")[0]\n",
    "lambda_sq = params.f0**2 *einops.rearrange(layer_domain.lambda_sq, \"Nz -> Nz 1 1\")\n",
    "\n",
    "homsol = compute_homogeneous_solution(\n",
    "        psi0, \n",
    "        lambda_sq=lambda_sq,\n",
    "        H_mat=H_mat\n",
    "    )\n",
    "print_debug_quantity(homsol, \"HOMSOL\")\n",
    "\n",
    "# calculate homogeneous solution\n",
    "homsol_i = jax.vmap(center_avg_2D)(homsol) * masks.center.values\n",
    "\n",
    "homsol_mean = einops.reduce(homsol_i, \"Nz Nx Ny -> Nz 1 1\", reduction=\"mean\")\n",
    "print_debug_quantity(homsol_mean, \"HOMSOL MEAN\")\n",
    "\n",
    "# CALCULATE CAPCITANCE MATRIX\n",
    "if domain_type == \"octogonal\":\n",
    "        cap_matrices = compute_capacitance_matrices(\n",
    "            H_mat, \n",
    "            masks.node.irrbound_xids,\n",
    "            masks.node.irrbound_yids\n",
    "        )\n",
    "else:\n",
    "    cap_matrices = None\n",
    "    \n",
    "# DST SOLUTION\n",
    "dst_sol = DSTSolution(\n",
    "        homsol=homsol, \n",
    "        homsol_mean=homsol_mean, \n",
    "        H_mat=H_mat,\n",
    "        capacitance_matrix=cap_matrices\n",
    "    )"
   ]
  },
  {
   "cell_type": "markdown",
   "id": "a50e3384-0412-469f-9c5d-c6d3fc5228c9",
   "metadata": {},
   "source": [
    "### Custom Forcing"
   ]
  },
  {
   "cell_type": "code",
   "execution_count": 11,
   "id": "4626c4a9-80aa-4761-aa6b-77351fe2ebba",
   "metadata": {
    "tags": []
   },
   "outputs": [],
   "source": [
    "from somax._src.models.qg.forcing import calculate_bottom_drag, calculate_wind_forcing"
   ]
  },
  {
   "cell_type": "code",
   "execution_count": 12,
   "id": "2b2210a7-35b7-40d7-86ea-b61093c685cb",
   "metadata": {
    "tags": []
   },
   "outputs": [],
   "source": [
    "wind_forcing = calculate_wind_forcing(\n",
    "    domain=xy_domain,\n",
    "    H_0=layer_domain.heights[0],\n",
    "    tau0=0.08/1_000.0,\n",
    ")\n",
    "\n",
    "\n",
    "def forcing_fn(\n",
    "    psi: Float[Array, \"Nz Nx Ny\"],\n",
    "    dq: Float[Array, \"Nz Nx-1 Ny-1\"],\n",
    "    domain: Domain,\n",
    "    layer_domain: LayerDomain,\n",
    "    params: QGParams,\n",
    "    masks: MaskGrid,\n",
    ") -> Float[Array, \"Nz Nx Ny\"]:\n",
    "    \n",
    "    # add wind forcing\n",
    "    dq = dq.at[0].add(wind_forcing)\n",
    "    \n",
    "    # calculate bottom drag\n",
    "    bottom_drag = calculate_bottom_drag(\n",
    "        psi=psi, domain=domain,\n",
    "        H_z=layer_domain.heights[-1],\n",
    "        delta_ek=params.delta_ek,\n",
    "        f0=params.f0,\n",
    "        masks_psi=masks.node\n",
    "    )\n",
    "    \n",
    "\n",
    "    dq = dq.at[-1].add(bottom_drag)\n",
    "    \n",
    "    return dq\n",
    "    \n",
    "    "
   ]
  },
  {
   "cell_type": "markdown",
   "id": "6fd611e5-c977-46ed-b3cd-86df7cf23ca3",
   "metadata": {},
   "source": [
    "### Initial Quantities"
   ]
  },
  {
   "cell_type": "code",
   "execution_count": 13,
   "id": "ece5b04a-3964-4a79-be30-7f2b19609b57",
   "metadata": {
    "tags": []
   },
   "outputs": [],
   "source": [
    "from somax._src.models.qg.operators import (\n",
    "    calculate_potential_vorticity,\n",
    "    calculate_psi_from_pv,\n",
    "    equation_of_motion\n",
    ")"
   ]
  },
  {
   "cell_type": "code",
   "execution_count": 14,
   "id": "c32525fb-73d4-4cb9-a31f-f5631a8af05e",
   "metadata": {
    "tags": []
   },
   "outputs": [],
   "source": [
    "# PV\n",
    "q0 = calculate_potential_vorticity(\n",
    "    psi0, xy_domain, layer_domain, \n",
    "    params=params,\n",
    "    masks_psi=masks.node, \n",
    "    masks_q=masks.center\n",
    ")"
   ]
  },
  {
   "cell_type": "code",
   "execution_count": 15,
   "id": "59df3824-e9ae-45cf-9fbf-00e83e05ab7a",
   "metadata": {
    "tags": []
   },
   "outputs": [],
   "source": [
    "dq = equation_of_motion(\n",
    "    q=q0, psi=psi0, params=params,\n",
    "    domain=xy_domain, layer_domain=layer_domain,\n",
    "    forcing_fn=forcing_fn,\n",
    "    masks=masks\n",
    ")\n",
    "\n",
    "dpsi = calculate_psi_from_pv(\n",
    "    q=dq,\n",
    "    layer_domain=layer_domain,\n",
    "    mask_node=masks.node,\n",
    "    dst_sol=dst_sol\n",
    ")"
   ]
  },
  {
   "cell_type": "markdown",
   "id": "60bff4c8-842a-4694-97e7-f4abff257830",
   "metadata": {},
   "source": [
    "## Equation of Motion"
   ]
  },
  {
   "cell_type": "code",
   "execution_count": 16,
   "id": "74e74bfd-4ad6-495c-a9a6-2ab88b40c36f",
   "metadata": {
    "tags": []
   },
   "outputs": [],
   "source": [
    "class State(eqx.Module):\n",
    "    q: Array\n",
    "    psi: Array"
   ]
  },
  {
   "cell_type": "code",
   "execution_count": 17,
   "id": "efd6ff6e-a29e-463f-af46-2681ab85a1a1",
   "metadata": {
    "tags": []
   },
   "outputs": [],
   "source": [
    "def vector_field(t: float, state: State, args) -> State:\n",
    "\n",
    "    # PARSE PARAMS FROM ARGS\n",
    "    params = args\n",
    "    \n",
    "    dq = equation_of_motion(\n",
    "        q=state.q, psi=state.psi, params=params,\n",
    "        domain=xy_domain, layer_domain=layer_domain,\n",
    "        forcing_fn=forcing_fn,\n",
    "        masks=masks\n",
    "    )\n",
    "\n",
    "    dpsi = calculate_psi_from_pv(\n",
    "        q=dq,\n",
    "        layer_domain=layer_domain,\n",
    "        mask_node=masks.node,\n",
    "        dst_sol=dst_sol\n",
    "    )\n",
    "    \n",
    "    state = eqx.tree_at(lambda x: x.q, state, dq)\n",
    "    state = eqx.tree_at(lambda x: x.psi, state, dpsi)\n",
    "    \n",
    "    return state"
   ]
  },
  {
   "cell_type": "markdown",
   "id": "2397db1a-4435-4a45-80ca-6df08a9d4b1c",
   "metadata": {},
   "source": [
    "## Time Stepping\n",
    "\n",
    "About 1 year"
   ]
  },
  {
   "cell_type": "code",
   "execution_count": 18,
   "id": "ff2da60a-915a-4e1d-8e0f-d811ab4dd56f",
   "metadata": {
    "tags": []
   },
   "outputs": [],
   "source": [
    "dt = 60\n",
    "\n",
    "tmin = 0.0\n",
    "num_years = 1\n",
    "num_days = 360\n",
    "tmax = pd.to_timedelta(num_years * num_days, unit=\"days\").total_seconds()\n",
    "num_save = 20"
   ]
  },
  {
   "cell_type": "code",
   "execution_count": 19,
   "id": "d09d841c-6afe-41b4-b88e-5e7347a1687e",
   "metadata": {
    "tags": []
   },
   "outputs": [],
   "source": [
    "from fieldx._src.domain.time import TimeDomain\n",
    "\n",
    "t_domain = TimeDomain(tmin=tmin, tmax=tmax, dt=dt)\n",
    "ts = jnp.linspace(tmin, tmax, num_save)\n",
    "saveat = dfx.SaveAt(ts=ts)"
   ]
  },
  {
   "cell_type": "code",
   "execution_count": 20,
   "id": "778b1f03-72ff-410d-8af1-7b475bc87167",
   "metadata": {
    "tags": []
   },
   "outputs": [],
   "source": [
    "# Euler, Constant StepSize\n",
    "# solver = dfx.Tsit5()\n",
    "# solver = dfx.Heun()\n",
    "solver = dfx.Bosh3()\n",
    "\n",
    "# Tolerances\n",
    "stepsize_controller = dfx.PIDController(rtol=1e-5, atol=1e-5)\n",
    "# stepsize_controller = dfx.ConstantStepSize()"
   ]
  },
  {
   "cell_type": "code",
   "execution_count": 21,
   "id": "ad74a7c9-44e8-4abe-b8be-3857c45114f0",
   "metadata": {
    "tags": []
   },
   "outputs": [],
   "source": [
    "psi0 *= 0.\n",
    "# psi0 = np.load(\"/Users/eman/code_projects/data/qg_runs/psi_0.986y_360.00d_octogonal.npy\")\n",
    "\n",
    "q0 = calculate_potential_vorticity(\n",
    "    psi0, xy_domain, layer_domain, \n",
    "    params=params,\n",
    "    masks_psi=masks.node, \n",
    "    masks_q=masks.center\n",
    ")\n",
    "\n",
    "state_init = State(q=q0, psi=psi0)"
   ]
  },
  {
   "cell_type": "code",
   "execution_count": 23,
   "id": "818794b7-ddde-4964-a537-f05e0ab7198a",
   "metadata": {
    "tags": []
   },
   "outputs": [
    {
     "ename": "TypeError",
     "evalue": "got an unexpected keyword argument 'params'",
     "output_type": "error",
     "traceback": [
      "\u001b[0;31m---------------------------------------------------------------------------\u001b[0m",
      "\u001b[0;31mTypeError\u001b[0m                                 Traceback (most recent call last)",
      "File \u001b[0;32m<timed exec>:2\u001b[0m\n",
      "    \u001b[0;31m[... skipping hidden 3 frame]\u001b[0m\n",
      "File \u001b[0;32m/conda/tuchida/somax/lib/python3.11/site-packages/equinox/_jit.py:69\u001b[0m, in \u001b[0;36m_preprocess\u001b[0;34m(info, args, kwargs, return_static)\u001b[0m\n\u001b[1;32m     67\u001b[0m \u001b[38;5;28;01mdef\u001b[39;00m \u001b[38;5;21m_preprocess\u001b[39m(info, args, kwargs, return_static: \u001b[38;5;28mbool\u001b[39m \u001b[38;5;241m=\u001b[39m \u001b[38;5;28;01mFalse\u001b[39;00m):\n\u001b[1;32m     68\u001b[0m     signature, dynamic_fun, static_fun, donate_first, donate_rest \u001b[38;5;241m=\u001b[39m info\n\u001b[0;32m---> 69\u001b[0m     args, kwargs \u001b[38;5;241m=\u001b[39m _bind(signature, args, kwargs)\n\u001b[1;32m     70\u001b[0m     \u001b[38;5;66;03m# add dummy to avoid special casing `len(args) == 0`.\u001b[39;00m\n\u001b[1;32m     71\u001b[0m     args \u001b[38;5;241m=\u001b[39m args \u001b[38;5;241m+\u001b[39m (\u001b[38;5;28;01mNone\u001b[39;00m,)\n",
      "File \u001b[0;32m/conda/tuchida/somax/lib/python3.11/site-packages/equinox/_jit.py:60\u001b[0m, in \u001b[0;36m_bind\u001b[0;34m(signature, args, kwargs)\u001b[0m\n\u001b[1;32m     59\u001b[0m \u001b[38;5;28;01mdef\u001b[39;00m \u001b[38;5;21m_bind\u001b[39m(signature, args, kwargs):\n\u001b[0;32m---> 60\u001b[0m     bound \u001b[38;5;241m=\u001b[39m signature\u001b[38;5;241m.\u001b[39mbind(\u001b[38;5;241m*\u001b[39margs, \u001b[38;5;241m*\u001b[39m\u001b[38;5;241m*\u001b[39mkwargs)\n\u001b[1;32m     61\u001b[0m     bound\u001b[38;5;241m.\u001b[39mapply_defaults()\n\u001b[1;32m     62\u001b[0m     args \u001b[38;5;241m=\u001b[39m bound\u001b[38;5;241m.\u001b[39margs\n",
      "File \u001b[0;32m/conda/tuchida/somax/lib/python3.11/inspect.py:3212\u001b[0m, in \u001b[0;36mSignature.bind\u001b[0;34m(self, *args, **kwargs)\u001b[0m\n\u001b[1;32m   3207\u001b[0m \u001b[38;5;28;01mdef\u001b[39;00m \u001b[38;5;21mbind\u001b[39m(\u001b[38;5;28mself\u001b[39m, \u001b[38;5;241m/\u001b[39m, \u001b[38;5;241m*\u001b[39margs, \u001b[38;5;241m*\u001b[39m\u001b[38;5;241m*\u001b[39mkwargs):\n\u001b[1;32m   3208\u001b[0m \u001b[38;5;250m    \u001b[39m\u001b[38;5;124;03m\"\"\"Get a BoundArguments object, that maps the passed `args`\u001b[39;00m\n\u001b[1;32m   3209\u001b[0m \u001b[38;5;124;03m    and `kwargs` to the function's signature.  Raises `TypeError`\u001b[39;00m\n\u001b[1;32m   3210\u001b[0m \u001b[38;5;124;03m    if the passed arguments can not be bound.\u001b[39;00m\n\u001b[1;32m   3211\u001b[0m \u001b[38;5;124;03m    \"\"\"\u001b[39;00m\n\u001b[0;32m-> 3212\u001b[0m     \u001b[38;5;28;01mreturn\u001b[39;00m \u001b[38;5;28mself\u001b[39m\u001b[38;5;241m.\u001b[39m_bind(args, kwargs)\n",
      "File \u001b[0;32m/conda/tuchida/somax/lib/python3.11/inspect.py:3201\u001b[0m, in \u001b[0;36mSignature._bind\u001b[0;34m(self, args, kwargs, partial)\u001b[0m\n\u001b[1;32m   3199\u001b[0m         arguments[kwargs_param\u001b[38;5;241m.\u001b[39mname] \u001b[38;5;241m=\u001b[39m kwargs\n\u001b[1;32m   3200\u001b[0m     \u001b[38;5;28;01melse\u001b[39;00m:\n\u001b[0;32m-> 3201\u001b[0m         \u001b[38;5;28;01mraise\u001b[39;00m \u001b[38;5;167;01mTypeError\u001b[39;00m(\n\u001b[1;32m   3202\u001b[0m             \u001b[38;5;124m'\u001b[39m\u001b[38;5;124mgot an unexpected keyword argument \u001b[39m\u001b[38;5;132;01m{arg!r}\u001b[39;00m\u001b[38;5;124m'\u001b[39m\u001b[38;5;241m.\u001b[39mformat(\n\u001b[1;32m   3203\u001b[0m                 arg\u001b[38;5;241m=\u001b[39m\u001b[38;5;28mnext\u001b[39m(\u001b[38;5;28miter\u001b[39m(kwargs))))\n\u001b[1;32m   3205\u001b[0m \u001b[38;5;28;01mreturn\u001b[39;00m \u001b[38;5;28mself\u001b[39m\u001b[38;5;241m.\u001b[39m_bound_arguments_cls(\u001b[38;5;28mself\u001b[39m, arguments)\n",
      "\u001b[0;31mTypeError\u001b[0m: got an unexpected keyword argument 'params'"
     ]
    }
   ],
   "source": [
    "%%time\n",
    "# integration\n",
    "sol = dfx.diffeqsolve(\n",
    "    terms=dfx.ODETerm(vector_field),\n",
    "    solver=solver,\n",
    "    t0=tmin,\n",
    "    t1=tmax,\n",
    "    dt0=dt,\n",
    "    y0=state_init,\n",
    "    saveat=saveat,\n",
    "    args=params,\n",
    "    stepsize_controller=stepsize_controller,\n",
    "    max_steps=None,\n",
    ")"
   ]
  },
  {
   "cell_type": "code",
   "execution_count": 23,
   "id": "63d7381a-e8ce-4909-ac61-4f78db321ba5",
   "metadata": {
    "tags": []
   },
   "outputs": [
    {
     "data": {
      "image/png": "[encoded data removed]",
      "text/plain": [
       "<Figure size 800x200 with 6 Axes>"
      ]
     },
     "metadata": {},
     "output_type": "display_data"
    },
    {
     "data": {
      "image/png": "[encoded data removed]",
      "text/plain": [
       "<Figure size 800x200 with 6 Axes>"
      ]
     },
     "metadata": {},
     "output_type": "display_data"
    }
   ],
   "source": [
    "plot_field(sol.ys.psi[-1]/ (9.81 / params.f0))\n",
    "plot_field(sol.ys.q[-1])"
   ]
  },
  {
   "cell_type": "markdown",
   "id": "54b34d96-fcd1-4f3e-904f-c1bc688f3507",
   "metadata": {},
   "source": [
    "### Re-Run Simulation\n",
    "\n",
    "1+1 years"
   ]
  },
  {
   "cell_type": "code",
   "execution_count": null,
   "id": "0757ebc5-5672-4f52-b54e-fa738a9b35a8",
   "metadata": {
    "tags": []
   },
   "outputs": [],
   "source": [
    "%%time\n",
    "# integration\n",
    "sol = dfx.diffeqsolve(\n",
    "    terms=dfx.ODETerm(vector_field),\n",
    "    solver=solver,\n",
    "    t0=tmin,\n",
    "    t1=tmax,\n",
    "    dt0=dt,\n",
    "    y0=State(sol.ys.q[-1], sol.ys.psi[-1]),\n",
    "    saveat=saveat,\n",
    "    args=params,\n",
    "    stepsize_controller=stepsize_controller,\n",
    "    max_steps=None,\n",
    ")"
   ]
  },
  {
   "cell_type": "code",
   "execution_count": null,
   "id": "c5ea056f-1efa-49d4-8690-5558ade341fb",
   "metadata": {
    "tags": []
   },
   "outputs": [],
   "source": [
    "plot_field(sol.ys.psi[-1]/ (9.81 / params.f0))\n",
    "plot_field(sol.ys.q[-1])"
   ]
  },
  {
   "cell_type": "markdown",
   "id": "b1aa7240-95f5-466c-81f0-10955bbf99a8",
   "metadata": {},
   "source": [
    "### Run Simulation Longer\n",
    "\n",
    "1+1+10 years"
   ]
  },
  {
   "cell_type": "code",
   "execution_count": null,
   "id": "294e2116-3a9d-4536-86e2-86461cdbbc69",
   "metadata": {
    "tags": []
   },
   "outputs": [],
   "source": [
    "dt = 90\n",
    "\n",
    "tmin = 0.0\n",
    "num_days = 360*10 # 360 # # 10 # 180 # 30 # 60 #\n",
    "tmax = pd.to_timedelta(num_days, unit=\"days\").total_seconds()\n",
    "num_save = 20\n",
    "\n",
    "t_domain = TimeDomain(tmin=tmin, tmax=tmax, dt=dt)\n",
    "ts = jnp.linspace(tmin, tmax, num_save)\n",
    "saveat = dfx.SaveAt(ts=ts)"
   ]
  },
  {
   "cell_type": "code",
   "execution_count": null,
   "id": "f2b075d3-af8b-445b-a0fb-b84bf759a156",
   "metadata": {
    "tags": []
   },
   "outputs": [],
   "source": [
    "%%time\n",
    "# integration\n",
    "sol = dfx.diffeqsolve(\n",
    "    terms=dfx.ODETerm(vector_field),\n",
    "    solver=solver,\n",
    "    t0=tmin,\n",
    "    t1=tmax,\n",
    "    dt0=dt,\n",
    "    y0=State(sol.ys.q[-1], sol.ys.psi[-1]),\n",
    "    saveat=saveat,\n",
    "    args=params,\n",
    "    stepsize_controller=stepsize_controller,\n",
    "    max_steps=None,\n",
    ")"
   ]
  },
  {
   "cell_type": "code",
   "execution_count": null,
   "id": "64db4a7d-d54b-438a-8fa9-19c354a46973",
   "metadata": {
    "scrolled": true,
    "tags": []
   },
   "outputs": [],
   "source": [
    "plot_field(sol.ys.psi[-1]/ (9.81 / params.f0))\n",
    "plot_field(sol.ys.q[-1])"
   ]
  },
  {
   "cell_type": "code",
   "execution_count": null,
   "id": "1868aeb7-a7c5-4704-86fb-a1eb19173a50",
   "metadata": {},
   "outputs": [],
   "source": [
    "fig, ax = plt.subplots()\n",
    "ax.pcolormesh(np.linspace(0,Lx,Nx)*1e-3, np.linspace(0,Ly,Ny)*1e-3, sol.ys.q[-1,0].T,\n",
    "              cmap='RdBu_r'\n",
    "             )\n",
    "ax.set_aspect('equal')"
   ]
  },
  {
   "cell_type": "code",
   "execution_count": 35,
   "id": "1577ca12-349b-459c-8e49-befc4d1f29ea",
   "metadata": {},
   "outputs": [
    {
     "data": {
      "text/plain": [
       "Solution(\n",
       "  t0=f64[],\n",
       "  t1=f64[],\n",
       "  ts=f64[20],\n",
       "  ys=State(q=f64[20,3,1023,1023], psi=f64[20,3,1024,1024]),\n",
       "  interpolation=None,\n",
       "  stats={\n",
       "    'max_steps':\n",
       "    None,\n",
       "    'num_accepted_steps':\n",
       "    i64[],\n",
       "    'num_rejected_steps':\n",
       "    i64[],\n",
       "    'num_steps':\n",
       "    i64[]\n",
       "  },\n",
       "  result=i64[],\n",
       "  solver_state=None,\n",
       "  controller_state=None,\n",
       "  made_jump=None\n",
       ")"
      ]
     },
     "execution_count": 35,
     "metadata": {},
     "output_type": "execute_result"
    }
   ],
   "source": [
    "sol"
   ]
  },
  {
   "cell_type": "code",
   "execution_count": null,
   "id": "91c3adba-4b6e-4a1c-815d-8c8a5a931224",
   "metadata": {},
   "outputs": [],
   "source": [
    "Z = np.array([200., heights[0]+.5*heights[1], heights[1]+.5*heights[2]])\n",
    "import xarray as xr\n",
    "dsave = xr.DataArray(sol.ys.q, dims=['time','Z','XC','YC'],\n",
    "                     coords={'time':ts,'Z':Z,\n",
    "                             'XC':np.arange(xy_domain.dx[0]*.5, xy_domain.Lx[0]-xy_domain.dx[0]*.5, xy_domain.dx[0]),\n",
    "                             'YC':np.arange(xy_domain.dx[1]*.5, xy_domain.Lx[1]-xy_domain.dx[1]*.5, xy_domain.dx[1])}\n",
    "                    ).to_dataset(name='q')\n",
    "dsave['psi'] = xr.DataArray(sol.ys.psi, dims=['time','Z','Xp1','Yp1'],\n",
    "                     coords={'time':ts,'Z':Z,\n",
    "                             'Xp1':np.arange(0, xy_domain.Lx[0], xy_domain.dx[0]),\n",
    "                             'Yp1':np.arange(0, xy_domain.Lx[1], xy_domain.dx[1])}\n",
    "                    )\n",
    "dsave"
   ]
  },
  {
   "cell_type": "code",
   "execution_count": null,
   "id": "f8da8a37-b915-48c0-b545-0af59c8af5de",
   "metadata": {},
   "outputs": [],
   "source": [
    "import os.path as op\n",
    "savedir = '/nexsan/people/tuchida/'\n",
    "dsave.chunk({'time':1,'Z':1}).to_zarr(op.join(savedir,'somax/double-gyre/RUNS/spinup/rectangular/%04d.zarr' \n",
    "                                              % Nx), mode='w')"
   ]
  },
  {
   "cell_type": "code",
   "execution_count": null,
   "id": "46c55838-8486-4ee3-aef7-3ff0fd0108e4",
   "metadata": {},
   "outputs": [],
   "source": []
  }
 ],
 "metadata": {
  "kernelspec": {
   "display_name": "Python 3 (ipykernel)",
   "language": "python",
   "name": "python3"
  },
  "language_info": {
   "codemirror_mode": {
    "name": "ipython",
    "version": 3
   },
   "file_extension": ".py",
   "mimetype": "text/x-python",
   "name": "python",
   "nbconvert_exporter": "python",
   "pygments_lexer": "ipython3",
   "version": "3.11.6"
  }
 },
 "nbformat": 4,
 "nbformat_minor": 5
}
