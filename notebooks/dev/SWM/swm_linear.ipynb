{
 "cells": [
  {
   "cell_type": "code",
   "execution_count": 1,
   "metadata": {},
   "outputs": [],
   "source": [
    "import autoroot\n",
    "import jax\n",
    "jax.config.update(\"jax_enable_x64\", True)\n",
    "import jax.numpy as jnp\n",
    "from jaxtyping import (\n",
    "    Array,\n",
    "    Float,\n",
    ")\n",
    "import matplotlib.pyplot as plt\n",
    "import numpy as np\n",
    "\n",
    "from somax.masks import MaskGrid\n",
    "from somax.interp import center_avg_2D\n",
    "from somax._src.operators.differential import difference\n",
    "from loguru import logger\n",
    "\n",
    "%matplotlib inline\n",
    "%load_ext autoreload\n",
    "%autoreload 2"
   ]
  },
  {
   "cell_type": "code",
   "execution_count": 2,
   "metadata": {},
   "outputs": [
    {
     "name": "stderr",
     "output_type": "stream",
     "text": [
      "\u001b[32m2024-06-17 11:15:10.923\u001b[0m | \u001b[1mINFO    \u001b[0m | \u001b[36m__main__\u001b[0m:\u001b[36m<module>\u001b[0m:\u001b[36m2\u001b[0m - \u001b[1mStarting script...\u001b[0m\n"
     ]
    }
   ],
   "source": [
    "# set parameters\n",
    "logger.info(\"Starting script...\")"
   ]
  },
  {
   "cell_type": "code",
   "execution_count": 3,
   "metadata": {},
   "outputs": [
    {
     "name": "stderr",
     "output_type": "stream",
     "text": [
      "\u001b[32m2024-06-17 11:15:11.102\u001b[0m | \u001b[1mINFO    \u001b[0m | \u001b[36m__main__\u001b[0m:\u001b[36m<module>\u001b[0m:\u001b[36m1\u001b[0m - \u001b[1mSetting Parameters...\u001b[0m\n"
     ]
    }
   ],
   "source": [
    "logger.info(\"Setting Parameters...\")\n",
    "n_x = 100\n",
    "dx = 20e3\n",
    "\n",
    "n_y = 101\n",
    "dy = 20e3\n",
    "\n",
    "gravity = 9.81\n",
    "depth = 100.0\n",
    "coriolis_param = 2e-4\n",
    "\n",
    "dt = 0.5 * min(dx, dy) / np.sqrt(gravity * depth)\n",
    "\n",
    "phase_speed = np.sqrt(gravity * depth)\n",
    "rossby_radius = np.sqrt(gravity * depth) / coriolis_param"
   ]
  },
  {
   "cell_type": "code",
   "execution_count": 4,
   "metadata": {},
   "outputs": [],
   "source": [
    "# plot parameters\n",
    "plot_range = 0.5\n",
    "plot_every = 2\n",
    "max_quivers = 21\n",
    "\n",
    "# grid setup\n",
    "x, y = (np.arange(n_x) * dx, np.arange(n_y) * dy)\n",
    "X, Y = np.meshgrid(x, y, indexing=\"ij\")\n",
    "\n",
    "# initial conditions\n",
    "h0 = depth + 1.0 * np.exp(\n",
    "    -((X - x[n_x // 2]) ** 2) / rossby_radius**2\n",
    "    - (Y - y[n_y - 2]) ** 2 / rossby_radius**2\n",
    ")\n",
    "\n",
    "# mask\n",
    "mask = jnp.ones_like(X)\n",
    "mask = mask.at[-1].set(0.0)\n",
    "mask = mask.at[:, 0].set(0.0)\n",
    "mask = mask.at[:, -1].set(0.0)\n",
    "masks = MaskGrid.init_mask(mask, \"center\")\n"
   ]
  },
  {
   "cell_type": "code",
   "execution_count": 10,
   "metadata": {},
   "outputs": [
    {
     "name": "stdout",
     "output_type": "stream",
     "text": [
      "(101, 101) (100, 102) (100, 101)\n"
     ]
    }
   ],
   "source": [
    "u0 = np.zeros_like(masks.face_u.values)\n",
    "v0 = np.zeros_like(masks.face_v.values)\n",
    "\n",
    "print(u0.shape, v0.shape, h0.shape)\n",
    "\n",
    "\n",
    "def prepare_plot():\n",
    "    fig, ax = plt.subplots(1, 1, figsize=(8, 6))\n",
    "    cs = update_plot(0, h0, u0, v0, ax)\n",
    "    plt.colorbar(cs, label=\"$\\\\eta$ (m)\")\n",
    "    plt.show()\n",
    "    return fig, ax"
   ]
  },
  {
   "cell_type": "code",
   "execution_count": 11,
   "metadata": {},
   "outputs": [],
   "source": [
    "\n",
    "def update_plot(t, h, u, v, ax):\n",
    "    eta = h - depth\n",
    "\n",
    "    quiver_stride = (slice(1, -1, n_x // max_quivers), slice(1, -1, n_y // max_quivers))\n",
    "\n",
    "    ax.clear()\n",
    "    cs = ax.pcolormesh(\n",
    "        x[1:-1] / 1e3,\n",
    "        y[1:-1] / 1e3,\n",
    "        eta[1:-1, 1:-1].T,\n",
    "        vmin=-plot_range,\n",
    "        vmax=plot_range,\n",
    "        cmap=\"RdBu_r\",\n",
    "    )\n",
    "\n",
    "    if np.any((u[quiver_stride] != 0) | (v[quiver_stride] != 0)):\n",
    "        ax.quiver(\n",
    "            x[quiver_stride[0]] / 1e3,\n",
    "            y[quiver_stride[1]] / 1e3,\n",
    "            u[quiver_stride].T,\n",
    "            v[quiver_stride].T,\n",
    "            clip_on=False,\n",
    "        )\n",
    "\n",
    "    ax.set_aspect(\"equal\")\n",
    "    ax.set_xlabel(\"$x$ (km)\")\n",
    "    ax.set_ylabel(\"$y$ (km)\")\n",
    "    ax.set_xlim(x[1] / 1e3, x[-2] / 1e3)\n",
    "    ax.set_ylim(y[1] / 1e3, y[-2] / 1e3)\n",
    "    ax.set_title(\n",
    "        \"t=%5.2f days, R=%5.1f km, c=%5.1f m/s \"\n",
    "        % (t / 86400, rossby_radius / 1e3, phase_speed)\n",
    "    )\n",
    "    plt.pause(0.1)\n",
    "    plt.show()\n",
    "    return cs"
   ]
  },
  {
   "cell_type": "code",
   "execution_count": 12,
   "metadata": {},
   "outputs": [],
   "source": [
    "def enforce_boundaries(u, variable: str = \"h\"):\n",
    "    if variable == \"h\":\n",
    "        pass\n",
    "    elif variable == \"u\":\n",
    "        u = u.at[-2].set(0.0)\n",
    "    elif variable == \"v\":\n",
    "        u = u.at[:, -2].set(0.0)\n",
    "    else:\n",
    "        msg = \"Unrecognized variable\"\n",
    "        raise ValueError(msg)\n",
    "    return u"
   ]
  },
  {
   "cell_type": "code",
   "execution_count": 13,
   "metadata": {},
   "outputs": [],
   "source": [
    "def iterate_shallow_water():\n",
    "    # allocate arrays\n",
    "    u, v, h = jnp.empty_like(u0), jnp.empty_like(v0), jnp.empty_like(h0)\n",
    "\n",
    "    # initial conditions\n",
    "    h: Float[Array, \"Nx Ny\"] = h.at[:].set(h0)\n",
    "    u: Float[Array, \"Nx+1 Ny\"] = u.at[:].set(u0)\n",
    "    v: Float[Array, \"Nx Ny+1\"] = v.at[:].set(v0)\n",
    "\n",
    "    # apply masks\n",
    "    h *= masks.center.values\n",
    "    u *= masks.face_u.values\n",
    "    v *= masks.face_v.values\n",
    "\n",
    "    def equation_of_motion(h, u, v):\n",
    "        # ================================\n",
    "        # update zonal velocity, u\n",
    "        # ================================\n",
    "        v_avg: Float[Array, \"Nx-1 Ny\"] = center_avg_2D(v)\n",
    "        dh_dx: Float[Array, \"Nx-1 Ny\"] = difference(\n",
    "            h, step_size=dx, axis=0, derivative=1\n",
    "        )\n",
    "\n",
    "        u_rhs: Float[Array, \"Nx-1 Ny\"] = coriolis_param * v_avg - gravity * dh_dx\n",
    "\n",
    "        # apply masks\n",
    "        u_rhs *= masks.face_u.values[1:-1]\n",
    "\n",
    "        # time step u\n",
    "        u: Float[Array, \"Nx+1 Ny\"] = u.at[1:-1].add(dt * u_rhs)\n",
    "\n",
    "        u = enforce_boundaries(u, \"u\")\n",
    "\n",
    "        # =================================\n",
    "        # update meridional velocity, v\n",
    "        # =================================\n",
    "        u_avg: Float[Array, \"Nx Ny-1\"] = center_avg_2D(u)\n",
    "        dh_dy: Float[Array, \"Nx Ny-1\"] = difference(\n",
    "            h, step_size=dy, axis=1, derivative=1\n",
    "        )\n",
    "\n",
    "        v_rhs: Float[Array, \"Nx Ny-1\"] = -coriolis_param * u_avg - gravity * dh_dy\n",
    "\n",
    "        # apply masks\n",
    "        v_rhs *= masks.face_v.values[:, 1:-1]\n",
    "\n",
    "        # time step v\n",
    "        v: Float[Array, \"Nx Ny+1\"] = v.at[:, 1:-1].add(dt * v_rhs)\n",
    "\n",
    "        v = enforce_boundaries(v, \"v\")\n",
    "\n",
    "        # =================================\n",
    "        # update height, h\n",
    "        # =================================\n",
    "        du_dx: Float[Array, \"Nx Ny\"] = difference(u, step_size=dx, axis=0, derivative=1)\n",
    "        dv_dy: Float[Array, \"Nx Ny\"] = difference(v, step_size=dy, axis=1, derivative=1)\n",
    "\n",
    "        h_rhs: Float[Array, \"Nx Ny\"] = -depth * (du_dx + dv_dy)\n",
    "\n",
    "        # apply masks\n",
    "        h_rhs *= masks.center.values\n",
    "\n",
    "        # time step h\n",
    "        h: Float[Array, \"Nx Ny\"] = h.at[:].add(dt * h_rhs)\n",
    "\n",
    "        h = enforce_boundaries(h, \"h\")\n",
    "\n",
    "        return h, u, v\n",
    "\n",
    "    eom_fn = jax.jit(equation_of_motion)\n",
    "\n",
    "    # time step equations\n",
    "    while True:\n",
    "        h, u, v = eom_fn(h, u, v)\n",
    "\n",
    "        yield h, u, v\n"
   ]
  },
  {
   "cell_type": "code",
   "execution_count": 14,
   "metadata": {},
   "outputs": [
    {
     "data": {
      "image/png": "[encoded data removed]",
      "text/plain": [
       "<Figure size 800x600 with 1 Axes>"
      ]
     },
     "metadata": {},
     "output_type": "display_data"
    },
    {
     "data": {
      "text/plain": [
       "<Figure size 640x480 with 0 Axes>"
      ]
     },
     "metadata": {},
     "output_type": "display_data"
    },
    {
     "ename": "KeyboardInterrupt",
     "evalue": "",
     "output_type": "error",
     "traceback": [
      "\u001b[0;31m---------------------------------------------------------------------------\u001b[0m",
      "\u001b[0;31mKeyboardInterrupt\u001b[0m                         Traceback (most recent call last)",
      "Cell \u001b[0;32mIn[14], line 17\u001b[0m\n\u001b[1;32m     14\u001b[0m     v_on_h \u001b[38;5;241m=\u001b[39m center_avg_2D(v)\n\u001b[1;32m     16\u001b[0m     \u001b[38;5;66;03m# update plot\u001b[39;00m\n\u001b[0;32m---> 17\u001b[0m     \u001b[43mupdate_plot\u001b[49m\u001b[43m(\u001b[49m\u001b[43mt\u001b[49m\u001b[43m,\u001b[49m\u001b[43m \u001b[49m\u001b[43mh\u001b[49m\u001b[43m,\u001b[49m\u001b[43m \u001b[49m\u001b[43mu_on_h\u001b[49m\u001b[43m,\u001b[49m\u001b[43m \u001b[49m\u001b[43mv_on_h\u001b[49m\u001b[43m,\u001b[49m\u001b[43m \u001b[49m\u001b[43max\u001b[49m\u001b[43m)\u001b[49m\n\u001b[1;32m     19\u001b[0m \u001b[38;5;66;03m# # stop if user closes plot window\u001b[39;00m\n\u001b[1;32m     20\u001b[0m \u001b[38;5;66;03m# if not plt.fignum_exists(fig.number):\u001b[39;00m\n\u001b[1;32m     21\u001b[0m \u001b[38;5;66;03m#     break\u001b[39;00m\n",
      "Cell \u001b[0;32mIn[11], line 34\u001b[0m, in \u001b[0;36mupdate_plot\u001b[0;34m(t, h, u, v, ax)\u001b[0m\n\u001b[1;32m     29\u001b[0m ax\u001b[38;5;241m.\u001b[39mset_ylim(y[\u001b[38;5;241m1\u001b[39m] \u001b[38;5;241m/\u001b[39m \u001b[38;5;241m1e3\u001b[39m, y[\u001b[38;5;241m-\u001b[39m\u001b[38;5;241m2\u001b[39m] \u001b[38;5;241m/\u001b[39m \u001b[38;5;241m1e3\u001b[39m)\n\u001b[1;32m     30\u001b[0m ax\u001b[38;5;241m.\u001b[39mset_title(\n\u001b[1;32m     31\u001b[0m     \u001b[38;5;124m\"\u001b[39m\u001b[38;5;124mt=\u001b[39m\u001b[38;5;132;01m%5.2f\u001b[39;00m\u001b[38;5;124m days, R=\u001b[39m\u001b[38;5;132;01m%5.1f\u001b[39;00m\u001b[38;5;124m km, c=\u001b[39m\u001b[38;5;132;01m%5.1f\u001b[39;00m\u001b[38;5;124m m/s \u001b[39m\u001b[38;5;124m\"\u001b[39m\n\u001b[1;32m     32\u001b[0m     \u001b[38;5;241m%\u001b[39m (t \u001b[38;5;241m/\u001b[39m \u001b[38;5;241m86400\u001b[39m, rossby_radius \u001b[38;5;241m/\u001b[39m \u001b[38;5;241m1e3\u001b[39m, phase_speed)\n\u001b[1;32m     33\u001b[0m )\n\u001b[0;32m---> 34\u001b[0m \u001b[43mplt\u001b[49m\u001b[38;5;241;43m.\u001b[39;49m\u001b[43mpause\u001b[49m\u001b[43m(\u001b[49m\u001b[38;5;241;43m0.1\u001b[39;49m\u001b[43m)\u001b[49m\n\u001b[1;32m     35\u001b[0m plt\u001b[38;5;241m.\u001b[39mshow()\n\u001b[1;32m     36\u001b[0m \u001b[38;5;28;01mreturn\u001b[39;00m cs\n",
      "File \u001b[0;32m~/miniconda/envs/somax/lib/python3.11/site-packages/matplotlib/pyplot.py:665\u001b[0m, in \u001b[0;36mpause\u001b[0;34m(interval)\u001b[0m\n\u001b[1;32m    663\u001b[0m     canvas\u001b[38;5;241m.\u001b[39mstart_event_loop(interval)\n\u001b[1;32m    664\u001b[0m \u001b[38;5;28;01melse\u001b[39;00m:\n\u001b[0;32m--> 665\u001b[0m     time\u001b[38;5;241m.\u001b[39msleep(interval)\n",
      "\u001b[0;31mKeyboardInterrupt\u001b[0m: "
     ]
    }
   ],
   "source": [
    "fig, ax = prepare_plot()\n",
    "\n",
    "# create model generator\n",
    "model = iterate_shallow_water()\n",
    "\n",
    "# iterate through steps\n",
    "for iteration, (h, u, v) in enumerate(model):\n",
    "    if iteration % plot_every == 0:\n",
    "        t = iteration * dt\n",
    "\n",
    "        # move face variables to center\n",
    "        # u,v --> h\n",
    "        u_on_h = center_avg_2D(u)\n",
    "        v_on_h = center_avg_2D(v)\n",
    "\n",
    "        # update plot\n",
    "        update_plot(t, h, u_on_h, v_on_h, ax)\n",
    "\n",
    "    # # stop if user closes plot window\n",
    "    # if not plt.fignum_exists(fig.number):\n",
    "    #     break"
   ]
  },
  {
   "cell_type": "code",
   "execution_count": null,
   "metadata": {},
   "outputs": [],
   "source": []
  }
 ],
 "metadata": {
  "kernelspec": {
   "display_name": "Python [conda env:somax]",
   "language": "python",
   "name": "conda-env-somax-py"
  },
  "language_info": {
   "codemirror_mode": {
    "name": "ipython",
    "version": 3
   },
   "file_extension": ".py",
   "mimetype": "text/x-python",
   "name": "python",
   "nbconvert_exporter": "python",
   "pygments_lexer": "ipython3",
   "version": "3.11.9"
  }
 },
 "nbformat": 4,
 "nbformat_minor": 4
}
