{
 "cells": [
  {
   "cell_type": "markdown",
   "id": "bcc51e89-f494-4229-9838-c8ab0c4a439f",
   "metadata": {},
   "source": [
    "# Staggered Grids"
   ]
  },
  {
   "cell_type": "markdown",
   "id": "3c019a06-5fa1-406a-97c2-f5363476dca0",
   "metadata": {},
   "source": [
    "In this demo, we will look at how we can construct a staggered grid using some tools available within the `finitevolx` package.\n",
    "\n",
    "We will go over some of the fundamental data containers when building a `Field` data structure.\n",
    "\n",
    "* Domain\n",
    "* Values\n",
    "\n",
    "Then we will outline some of the fundamental operations that we can do when operating on fields.\n",
    "\n",
    "* Selecting Axes\n",
    "* Padding\n",
    "* Mathematical Operations\n",
    "* Difference\n",
    "* Interpolation"
   ]
  },
  {
   "cell_type": "code",
   "execution_count": 1,
   "id": "7dce5f23-6806-4668-9ad4-eed80ccdf544",
   "metadata": {},
   "outputs": [],
   "source": [
    "import os\n",
    "os.environ[\"CUDA_VISIBLE_DEVICES\"] = \"0\" # second gpu\n",
    "os.environ['XLA_PYTHON_CLIENT_PREALLOCATE'] = 'FALSE'\n",
    "\n",
    "import jax\n",
    "# again, this only works on startup!\n",
    "from jax import config\n",
    "config.update(\"jax_enable_x64\", True)"
   ]
  },
  {
   "cell_type": "code",
   "execution_count": 2,
   "id": "59017fd3-f5c0-4490-8fc1-29a64d66cca1",
   "metadata": {
    "tags": []
   },
   "outputs": [],
   "source": [
    "import autoroot\n",
    "import jax.numpy as jnp\n",
    "from jaxtyping import Array\n",
    "\n",
    "import matplotlib.pyplot as plt\n",
    "import numpy as np\n",
    "\n",
    "%matplotlib inline\n",
    "%load_ext autoreload\n",
    "%autoreload 2"
   ]
  },
  {
   "cell_type": "markdown",
   "id": "7ce3f3d8-cd25-44e8-8ead-8bb48d7fbddf",
   "metadata": {},
   "source": [
    "## Domains"
   ]
  },
  {
   "cell_type": "code",
   "execution_count": 3,
   "id": "c03e2097-2b6f-4d86-81ab-335cdd08aaf0",
   "metadata": {
    "tags": []
   },
   "outputs": [],
   "source": [
    "Nx, Ny = 200, 104\n",
    "dx, dy = 5e3, 5e3\n",
    "Lx, Ly = (Nx - 1) * dx, (Ny - 1) * dy"
   ]
  },
  {
   "cell_type": "code",
   "execution_count": 4,
   "id": "1ae65588-29ec-4a54-b5ff-b8d1f004c4b4",
   "metadata": {
    "tags": []
   },
   "outputs": [],
   "source": [
    "from somax.domain import Domain\n",
    "\n",
    "xmin, ymin = 0.0, 0.0\n",
    "xmax, ymax = Lx, Ly\n",
    "h_domain = Domain(xmin=(xmin, ymin), xmax=(xmax, ymax), Lx=(Lx,Ly), Nx=(Nx,Ny), dx=(dx,dy))"
   ]
  },
  {
   "cell_type": "markdown",
   "id": "0381864c-524c-48c5-88ae-f0fc2117b829",
   "metadata": {},
   "source": [
    "## Field"
   ]
  },
  {
   "cell_type": "code",
   "execution_count": 6,
   "id": "c970e67e-c6cd-46fe-bbd9-fb156e146445",
   "metadata": {
    "tags": []
   },
   "outputs": [
    {
     "data": {
      "text/plain": [
       "Field(\n",
       "  values=f64[200,104],\n",
       "  domain=Domain(\n",
       "    xmin=(0.0, 0.0),\n",
       "    xmax=(995000.0, 515000.0),\n",
       "    dx=(5000.0, 5000.0),\n",
       "    Nx=(200, 104),\n",
       "    Lx=(995000.0, 515000.0),\n",
       "    ndim=2\n",
       "  )\n",
       ")"
      ]
     },
     "execution_count": 6,
     "metadata": {},
     "output_type": "execute_result"
    }
   ],
   "source": [
    "from somax._src.field.field import Field\n",
    "\n",
    "h = Field.init_from_ones(domain=h_domain)\n",
    "h"
   ]
  },
  {
   "cell_type": "markdown",
   "id": "e2a52331-398d-4796-933f-ce9e8fe7b856",
   "metadata": {},
   "source": [
    "## Unary Operations\n",
    "\n",
    "* Selecting Points\n",
    "* Mathematical Operations\n",
    "* Padding"
   ]
  },
  {
   "cell_type": "markdown",
   "id": "208f1611-2f36-4f78-b9af-4fbc0b564df4",
   "metadata": {},
   "source": [
    "### Subsetting"
   ]
  },
  {
   "cell_type": "code",
   "execution_count": 12,
   "id": "e99a1fe3-968d-4e5e-b3e1-3214bf95920f",
   "metadata": {
    "tags": []
   },
   "outputs": [],
   "source": [
    "# subset\n",
    "h_i = h[1:-1, :]\n",
    "\n",
    "\n",
    "assert h_i.domain.xmin[0] == (xmin + dx)\n",
    "assert h_i.domain.xmax[0] == (xmax - dx)\n",
    "\n",
    "assert h_i.domain.Nx[0] == (Nx - 2)\n",
    "\n",
    "assert h_i.domain.Lx[0] == (Lx - 2 * dx)"
   ]
  },
  {
   "cell_type": "markdown",
   "id": "d45c9e34-7859-46e7-b074-c6eb4d4daf5f",
   "metadata": {},
   "source": [
    "### Padding"
   ]
  },
  {
   "cell_type": "code",
   "execution_count": 13,
   "id": "1ccea9c5-039e-4d78-9336-e5c9eda25922",
   "metadata": {
    "tags": []
   },
   "outputs": [],
   "source": [
    "from somax._src.operators.pad import pad_array, pad_domain, pad_field"
   ]
  },
  {
   "cell_type": "markdown",
   "id": "67b0ac5f-2da5-4964-a4ee-ed03bead0edd",
   "metadata": {},
   "source": [
    "#### Functional API\n",
    "\n",
    "This is the functional API which operators on `Arrays` and `Domains` independently."
   ]
  },
  {
   "cell_type": "code",
   "execution_count": 14,
   "id": "8b0ab184-9cc2-4285-be36-cbc821425a1f",
   "metadata": {
    "tags": []
   },
   "outputs": [
    {
     "data": {
      "text/plain": [
       "Domain(\n",
       "  xmin=(-5000.0, 0.0),\n",
       "  xmax=(1000000.0, 515000.0),\n",
       "  dx=(5000.0, 5000.0),\n",
       "  Nx=(202, 104),\n",
       "  Lx=(1005000.0, 515000.0),\n",
       "  ndim=2\n",
       ")"
      ]
     },
     "execution_count": 14,
     "metadata": {},
     "output_type": "execute_result"
    }
   ],
   "source": [
    "# pad axis (semantically the same)\n",
    "pad_width = (\"both\", None)\n",
    "pad_width = ((1,1), (0,0))\n",
    "\n",
    "# pad the values array\n",
    "h_pad: Array = pad_array(h.values, pad_width=pad_width)\n",
    "\n",
    "# pad the domain\n",
    "h_domain_pad: Domain = pad_domain(h_domain, pad_width=pad_width)\n",
    "\n",
    "h_domain_pad"
   ]
  },
  {
   "cell_type": "code",
   "execution_count": 15,
   "id": "6322228a-0f5c-4905-bbf4-4c055e6d0eaf",
   "metadata": {
    "tags": []
   },
   "outputs": [],
   "source": [
    "assert h_domain_pad.xmin[0] == (xmin - dx)\n",
    "assert h_domain_pad.xmax[0] == (xmax + dx)\n",
    "\n",
    "assert h_domain_pad.Nx[0] == (Nx + 2)\n",
    "\n",
    "assert h_domain_pad.Lx[0] == (Lx + 2 * dx)"
   ]
  },
  {
   "cell_type": "markdown",
   "id": "b897acfe-e506-49ae-abfc-d2fcc0b0cea8",
   "metadata": {},
   "source": [
    "#### Field API\n",
    "\n",
    "This is the field API which operates on `Fields`. \n",
    "The underlying operations are exactly the same as the Functional API.\n",
    "However, it offers the user a more convenient data container instead of having to deal with the `Array` and `Domain` independently."
   ]
  },
  {
   "cell_type": "code",
   "execution_count": 16,
   "id": "a02a258d-baeb-40ac-92ff-fbb599ce9acf",
   "metadata": {
    "tags": []
   },
   "outputs": [
    {
     "data": {
      "text/plain": [
       "Field(\n",
       "  values=f64[202,104],\n",
       "  domain=Domain(\n",
       "    xmin=(-5000.0, 0.0),\n",
       "    xmax=(1000000.0, 515000.0),\n",
       "    dx=(5000.0, 5000.0),\n",
       "    Nx=(202, 104),\n",
       "    Lx=(1005000.0, 515000.0),\n",
       "    ndim=2\n",
       "  )\n",
       ")"
      ]
     },
     "execution_count": 16,
     "metadata": {},
     "output_type": "execute_result"
    }
   ],
   "source": [
    "# pad the field\n",
    "h_pad: Field = pad_field(h, pad_width=pad_width)\n",
    "h_pad"
   ]
  },
  {
   "cell_type": "code",
   "execution_count": 17,
   "id": "01c2cfae-6016-493f-bf26-514122dad413",
   "metadata": {
    "tags": []
   },
   "outputs": [],
   "source": [
    "assert h_pad.domain.xmin[0] == (xmin - dx)\n",
    "assert h_pad.domain.xmax[0] == (xmax + dx)\n",
    "\n",
    "assert h_pad.domain.Nx[0] == (Nx + 2)\n",
    "\n",
    "assert h_pad.domain.Lx[0] == (Lx + 2 * dx)"
   ]
  },
  {
   "cell_type": "markdown",
   "id": "d2a43fd0-5382-4c80-9de9-890d584f00c5",
   "metadata": {},
   "source": [
    "## Staggered Domains"
   ]
  },
  {
   "cell_type": "code",
   "execution_count": 18,
   "id": "261313ca-325d-4929-9da9-b54d74cc2464",
   "metadata": {
    "tags": []
   },
   "outputs": [],
   "source": [
    "from somax._src.operators.stagger import stagger_domain"
   ]
  },
  {
   "cell_type": "markdown",
   "id": "6c3dd1d4-4f6f-439f-aa26-74caee8b1e43",
   "metadata": {},
   "source": [
    "In this example, we'll stagger u to the **right**."
   ]
  },
  {
   "cell_type": "code",
   "execution_count": 19,
   "id": "4fc059ff-df54-4527-9aab-a83b6db6adac",
   "metadata": {
    "tags": []
   },
   "outputs": [],
   "source": [
    "\n",
    "u_domain = stagger_domain(h_domain, direction=(\"right\", None), stagger=(True, False))\n",
    "\n",
    "# check xmin, xmax limits\n",
    "assert u_domain.xmin[0] == h_domain.xmin[0] + 0.5 * dx\n",
    "assert u_domain.xmax[0] == h_domain.xmax[0] + 0.5 * dx\n",
    "\n",
    "# check Nx, Lx\n",
    "assert u_domain.Nx[0] == h_domain.Nx[0]\n",
    "assert u_domain.Lx[0] == h_domain.Lx[0]"
   ]
  },
  {
   "cell_type": "code",
   "execution_count": 20,
   "id": "60631374-f542-4883-958c-a72e4c140b58",
   "metadata": {
    "tags": []
   },
   "outputs": [
    {
     "data": {
      "text/plain": [
       "5000.0"
      ]
     },
     "execution_count": 20,
     "metadata": {},
     "output_type": "execute_result"
    }
   ],
   "source": [
    "dx"
   ]
  },
  {
   "cell_type": "markdown",
   "id": "fa420650-bc9b-492c-9636-f6a26a676fed",
   "metadata": {
    "tags": []
   },
   "source": [
    "In this example, we will stagger u to the right and left (so the outer)."
   ]
  },
  {
   "cell_type": "code",
   "execution_count": 21,
   "id": "d26f0c62-7918-4807-a0f6-14a051a88f27",
   "metadata": {
    "tags": []
   },
   "outputs": [],
   "source": [
    "u_domain = stagger_domain(h_domain, direction=(\"outer\", None), stagger=(True, False))\n",
    "\n",
    "# check xmin, xmax limits\n",
    "assert u_domain.xmin[0] == h_domain.xmin[0] - 0.5 * dx\n",
    "assert u_domain.xmax[0] == h_domain.xmax[0] + 0.5 * dx\n",
    "\n",
    "# check Nx, Lx\n",
    "assert u_domain.Nx[0] == h_domain.Nx[0] + 1\n",
    "assert u_domain.Lx[0] == h_domain.Lx[0] + dx"
   ]
  },
  {
   "cell_type": "code",
   "execution_count": 22,
   "id": "19da4086-1ecb-455e-9049-f24fb9cd0435",
   "metadata": {
    "tags": []
   },
   "outputs": [],
   "source": [
    "u_domain = stagger_domain(h_domain, direction=(\"outer\", None), stagger=(True, False))\n",
    "v_domain = stagger_domain(h_domain, direction=(None, \"outer\"), stagger=(False, True))\n",
    "q_domain = stagger_domain(h_domain, direction=(\"outer\", \"outer\"), stagger=(True, True))"
   ]
  },
  {
   "cell_type": "markdown",
   "id": "813f926c-77d5-4d75-80ba-e4ec9ef21358",
   "metadata": {},
   "source": [
    "## Binary Operators"
   ]
  },
  {
   "cell_type": "markdown",
   "id": "ba2aba06-780a-431f-9eb6-f352022679fb",
   "metadata": {},
   "source": [
    "### Subsetting"
   ]
  },
  {
   "cell_type": "code",
   "execution_count": null,
   "id": "961e9dbd-a2e0-4d1e-8db8-784ecce41417",
   "metadata": {
    "tags": []
   },
   "outputs": [],
   "source": []
  },
  {
   "cell_type": "markdown",
   "id": "a6706bf8-1d44-4862-8adc-b4462cf790f8",
   "metadata": {},
   "source": [
    "### Padding"
   ]
  }
 ],
 "metadata": {
  "kernelspec": {
   "display_name": "Python [conda env:finitevolx]",
   "language": "python",
   "name": "conda-env-finitevolx-py"
  },
  "language_info": {
   "codemirror_mode": {
    "name": "ipython",
    "version": 3
   },
   "file_extension": ".py",
   "mimetype": "text/x-python",
   "name": "python",
   "nbconvert_exporter": "python",
   "pygments_lexer": "ipython3",
   "version": "3.11.6"
  }
 },
 "nbformat": 4,
 "nbformat_minor": 5
}
